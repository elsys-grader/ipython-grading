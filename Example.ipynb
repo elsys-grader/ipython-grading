{
 "cells": [
  {
   "cell_type": "code",
   "execution_count": null,
   "metadata": {
    "collapsed": true
   },
   "outputs": [],
   "source": [
    "import grader"
   ]
  },
  {
   "cell_type": "code",
   "execution_count": null,
   "metadata": {
    "collapsed": true
   },
   "outputs": [],
   "source": [
    "grader.start_container()\n",
    "rc, stdout, _, _ = grader.exec_step(\"echo a\")\n",
    "print(\"return code: {} stdout: {}\".format(rc, stdout))"
   ]
  }
 ],
 "metadata": {
  "anaconda-cloud": {}
 },
 "nbformat": 4,
 "nbformat_minor": 1
}
